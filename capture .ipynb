{
 "cells": [
  {
   "cell_type": "raw",
   "id": "08e9898d",
   "metadata": {},
   "source": [
    "smile detection "
   ]
  },
  {
   "cell_type": "code",
   "execution_count": 51,
   "id": "a97c3502",
   "metadata": {},
   "outputs": [],
   "source": [
    "# import libraries"
   ]
  },
  {
   "cell_type": "code",
   "execution_count": 52,
   "id": "460198c1",
   "metadata": {},
   "outputs": [],
   "source": [
    "import cv2"
   ]
  },
  {
   "cell_type": "code",
   "execution_count": 53,
   "id": "b40ce25a",
   "metadata": {},
   "outputs": [],
   "source": [
    "#using  haar cascade classifiers we have used three face eye smile "
   ]
  },
  {
   "cell_type": "code",
   "execution_count": 55,
   "id": "b19a82a2",
   "metadata": {},
   "outputs": [],
   "source": [
    "face_cascade = cv2.CascadeClassifier(cv2.data.haarcascades +'haarcascade_frontalface_default.xml')"
   ]
  },
  {
   "cell_type": "code",
   "execution_count": 56,
   "id": "5ba77e39",
   "metadata": {},
   "outputs": [],
   "source": [
    "eye_cascade = cv2.CascadeClassifier(cv2.data.haarcascades +'haarcascade_eye.xml')"
   ]
  },
  {
   "cell_type": "code",
   "execution_count": 57,
   "id": "eaf6a94e",
   "metadata": {},
   "outputs": [],
   "source": [
    "smile_cascade = cv2.CascadeClassifier(cv2.data.haarcascades +'haarcascade_smile.xml')"
   ]
  },
  {
   "cell_type": "code",
   "execution_count": 59,
   "id": "4fc5cddd",
   "metadata": {},
   "outputs": [],
   "source": [
    "#define function to detect face and smile "
   ]
  },
  {
   "cell_type": "code",
   "execution_count": 60,
   "id": "4bd4b530",
   "metadata": {},
   "outputs": [],
   "source": [
    "def detect(gray, frame):\n",
    "    faces = face_cascade.detectMultiScale(gray, 1.2,5)\n",
    "    for (x, y, w, h) in faces:\n",
    "        cv2.rectangle(frame, (x, y), ((x + w), (y + h)), (255, 0, 0), 3)\n",
    "        roi_gray = gray[y:y + h, x:x + w]\n",
    "        roi_color = frame[y:y + h, x:x + w]\n",
    "        smiles = smile_cascade.detectMultiScale(roi_gray, 1.8, 20)\n",
    "  \n",
    "        for (sx, sy, sw, sh) in smiles:\n",
    "            cv2.rectangle(roi_color, (sx, sy), ((sx + sw), (sy + sh)), (0, 0, 255), 3)\n",
    "    return frame"
   ]
  },
  {
   "cell_type": "code",
   "execution_count": 61,
   "id": "352f19c5",
   "metadata": {},
   "outputs": [],
   "source": [
    "#to capture live video and stored jpg "
   ]
  },
  {
   "cell_type": "code",
   "execution_count": 63,
   "id": "3a60d874",
   "metadata": {},
   "outputs": [],
   "source": [
    "video_capture = cv2.VideoCapture(0)\n",
    "while video_capture.isOpened():\n",
    "# Captures video_capture frame by frame\n",
    "\n",
    "    _, frame = video_capture.read()\n",
    "    \n",
    "    # To capture image in monochrome\n",
    "    gray = cv2.cvtColor(frame, cv2.COLOR_BGR2GRAY)\n",
    "\n",
    "    # calls the detect() function\n",
    "    canvas = detect(gray, frame)\n",
    "\n",
    "    # Displays the result on camera feed\n",
    "    cv2.imshow('Video', canvas)\n",
    "    \n",
    "    # The control breaks once c key is pressed and capture\n",
    "    if cv2.waitKey(1) & 0xff == ord('c'):\n",
    "        out = cv2.imwrite('capture.jpg',frame)\n",
    "        break\n",
    "# Release the capture once all the processing is done.\n",
    "    \n",
    "video_capture.release()\n",
    "cv2.destroyAllWindows()\n"
   ]
  },
  {
   "cell_type": "code",
   "execution_count": null,
   "id": "77f8d82a",
   "metadata": {},
   "outputs": [],
   "source": []
  }
 ],
 "metadata": {
  "kernelspec": {
   "display_name": "Python 3 (ipykernel)",
   "language": "python",
   "name": "python3"
  },
  "language_info": {
   "codemirror_mode": {
    "name": "ipython",
    "version": 3
   },
   "file_extension": ".py",
   "mimetype": "text/x-python",
   "name": "python",
   "nbconvert_exporter": "python",
   "pygments_lexer": "ipython3",
   "version": "3.9.12"
  }
 },
 "nbformat": 4,
 "nbformat_minor": 5
}
